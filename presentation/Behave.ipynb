{
 "cells": [
  {
   "cell_type": "markdown",
   "metadata": {
    "slideshow": {
     "slide_type": "slide"
    }
   },
   "source": [
    "# Introduction\n",
    "\n",
    "* Who am I?\n",
    "* What are we going to work on today?"
   ]
  },
  {
   "cell_type": "markdown",
   "metadata": {
    "slideshow": {
     "slide_type": "subslide"
    }
   },
   "source": [
    "# Who am I?"
   ]
  },
  {
   "cell_type": "markdown",
   "metadata": {
    "slideshow": {
     "slide_type": "subslide"
    }
   },
   "source": [
    "# Agenda\n",
    "\n",
    "* BDD\n",
    "  + What is behavior and BDD?\n",
    "  + Benefits of BDD\n",
    "  + Python BDD test frameworks\n",
    "* Behave Test Framework\n",
    "  + Gherkin mechanics  \n",
    "    - Example feature  \n",
    "    - The background selection\n",
    "    - A scenario outline\n",
    "  + Python comes into play\n",
    "    - Step definitions\n",
    "    - Scenario context\n",
    "    - Hooks\n",
    "    - Tags\n",
    "* Practical exercises\n",
    "* Usefull resources"
   ]
  },
  {
   "cell_type": "markdown",
   "metadata": {
    "slideshow": {
     "slide_type": "slide"
    }
   },
   "source": [
    "# Behavior Driven Developemnt"
   ]
  },
  {
   "cell_type": "markdown",
   "metadata": {
    "slideshow": {
     "slide_type": "subslide"
    }
   },
   "source": [
    "## What is behave?"
   ]
  },
  {
   "cell_type": "markdown",
   "metadata": {
    "slideshow": {
     "slide_type": "fragment"
    }
   },
   "source": [
    "In software it describes how the software operates"
   ]
  },
  {
   "cell_type": "markdown",
   "metadata": {
    "slideshow": {
     "slide_type": "fragment"
    }
   },
   "source": [
    "Examples:\n",
    "    # TO DO - add examples!"
   ]
  },
  {
   "cell_type": "markdown",
   "metadata": {
    "slideshow": {
     "slide_type": "subslide"
    }
   },
   "source": [
    "## WHAT more than HOW"
   ]
  },
  {
   "cell_type": "markdown",
   "metadata": {
    "slideshow": {
     "slide_type": "notes"
    }
   },
   "source": [
    "Behavior are defined early in development using specification by example: plain-language descriptions (Gherkin) that tell what more than how\n",
    "Behavior specs becomes requirements, ACC and acceptance tests (all in one)"
   ]
  },
  {
   "cell_type": "markdown",
   "metadata": {
    "slideshow": {
     "slide_type": "subslide"
    }
   },
   "source": [
    "## What is BDD?"
   ]
  },
  {
   "cell_type": "markdown",
   "metadata": {
    "slideshow": {
     "slide_type": "fragment"
    }
   },
   "source": [
    "BDD is a second-generation, outside–in, pull-based, multiple-stakeholder, multiple-scale, high-automation, agile methodology. It describes a cycle of interactions with well-defined outputs, resulting in the delivery of working, tested software that matters."
   ]
  },
  {
   "cell_type": "markdown",
   "metadata": {
    "slideshow": {
     "slide_type": "subslide"
    }
   },
   "source": [
    "## Benefits of BDD"
   ]
  },
  {
   "cell_type": "markdown",
   "metadata": {
    "slideshow": {
     "slide_type": "subslide"
    }
   },
   "source": [
    "## Python BDD test frameworks\n",
    "\n",
    "[Behave](https://behave.readthedocs.io/en/latest/)  \n",
    "[pythest-bdd](https://pytest-bdd.readthedocs.io/en/latest/)  \n",
    "[radish](http://radish-bdd.io/)  \n",
    "[lettuce](http://lettuce.it/)  \n",
    "  \n",
    "https://automationpanda.com/2019/04/02/python-bdd-framework-comparison/"
   ]
  },
  {
   "cell_type": "markdown",
   "metadata": {
    "slideshow": {
     "slide_type": "slide"
    }
   },
   "source": [
    "# Behave Test Framework"
   ]
  },
  {
   "cell_type": "markdown",
   "metadata": {
    "slideshow": {
     "slide_type": "slide"
    }
   },
   "source": [
    "# Installation !"
   ]
  },
  {
   "cell_type": "markdown",
   "metadata": {
    "slideshow": {
     "slide_type": "fragment"
    }
   },
   "source": [
    "### Pre-training preparation:\n",
    "* Python\n",
    "* Git\n",
    "* Virtualenv/Pipenv (optional)"
   ]
  },
  {
   "cell_type": "markdown",
   "metadata": {
    "slideshow": {
     "slide_type": "slide"
    }
   },
   "source": [
    "## Gherkin mechanics"
   ]
  },
  {
   "cell_type": "markdown",
   "metadata": {
    "slideshow": {
     "slide_type": "fragment"
    }
   },
   "source": [
    "### Given, When, Then (And, But)"
   ]
  },
  {
   "cell_type": "markdown",
   "metadata": {
    "slideshow": {
     "slide_type": "subslide"
    }
   },
   "source": [
    "<span style=\"color: blue;\">Scenario</span>: Refunded items should be returned to stock  \n",
    "&nbsp;&nbsp;&nbsp;&nbsp;<span style=\"color: green;\">**Given**</span> a customer previously bought a black sweater from me  \n",
    "&nbsp;&nbsp;&nbsp;&nbsp;&nbsp;&nbsp;<span style=\"color: green;\">and</span> I currently have three black sweaters left in stock.  \n",
    "&nbsp;&nbsp;&nbsp;&nbsp;<span style=\"color: green;\">**When**</span> he returns the sweater for a refund  \n",
    "&nbsp;&nbsp;&nbsp;&nbsp;<span style=\"color: green;\">**Then**</span> I should have four black sweaters in stock.,  \n",
    "  \n",
    "<span style=\"color: blue;\">Scenario</span>: Replaced items should be returned to stock  \n",
    "&nbsp;&nbsp;&nbsp;&nbsp;<span style=\"color: green;\">**Given**</span> that a customer buys a blue garment  \n",
    "&nbsp;&nbsp;&nbsp;&nbsp;&nbsp;&nbsp;<span style=\"color: green;\">and</span> I have two blue garments in stock  \n",
    "&nbsp;&nbsp;&nbsp;&nbsp;&nbsp;&nbsp;<span style=\"color: green;\">and</span> three black garments in stock.  \n",
    "&nbsp;&nbsp;&nbsp;&nbsp;<span style=\"color: green;\">**When**</span> he returns the garment for a replacement in black,  \n",
    "&nbsp;&nbsp;&nbsp;&nbsp;<span style=\"color: green;\">**Then**</span> I should have three blue garments in stock  \n",
    "&nbsp;&nbsp;&nbsp;&nbsp;&nbsp;&nbsp;<span style=\"color: green;\">and</span> two black garments in stock.  "
   ]
  },
  {
   "cell_type": "markdown",
   "metadata": {
    "slideshow": {
     "slide_type": "subslide"
    }
   },
   "source": [
    "<span style=\"color: red;\">**Feature**</span>: feature name  \n",
    "\n",
    "&nbsp;&nbsp;<span style=\"color: blue;\">**Scenario**</span>: some scenario  \n",
    "&nbsp;&nbsp;&nbsp;&nbsp;<span style=\"color: green;\">**Given**</span> some condition  \n",
    "&nbsp;&nbsp;&nbsp;&nbsp;<span style=\"color: green;\">**Then**</span> some result is expected.  "
   ]
  },
  {
   "cell_type": "markdown",
   "metadata": {
    "slideshow": {
     "slide_type": "notes"
    }
   },
   "source": [
    "Start code writing!"
   ]
  },
  {
   "cell_type": "markdown",
   "metadata": {
    "slideshow": {
     "slide_type": "subslide"
    }
   },
   "source": [
    "### The Backgound selection"
   ]
  },
  {
   "cell_type": "markdown",
   "metadata": {},
   "source": [
    "*@tags @tag*  \n",
    "<span style=\"color: red;\">**Feature**</span>: feature name  \n",
    "&nbsp;&nbsp; description\n",
    "&nbsp;&nbsp; further description  \n",
    "\n",
    "&nbsp;&nbsp;<span style=\"color: blue;\">**Background**</span>: some requirement of this test  \n",
    "&nbsp;&nbsp;&nbsp;&nbsp;<span style=\"color: green;\">**Given**</span> some setup condition  \n",
    "&nbsp;&nbsp;&nbsp;&nbsp;<span style=\"color: green;\">**And**</span> some other setup action.  \n",
    "\n",
    "&nbsp;&nbsp;<span style=\"color: blue;\">**Scenario**</span>: some scenario  \n",
    "&nbsp;&nbsp;&nbsp;&nbsp;<span style=\"color: green;\">**Given**</span> some condition  \n",
    "&nbsp;&nbsp;&nbsp;&nbsp;<span style=\"color: green;\">**When**</span> some action is taken  \n",
    "&nbsp;&nbsp;&nbsp;&nbsp;<span style=\"color: green;\">**Then**</span> some result is expected.  \n",
    "\n",
    "&nbsp;&nbsp;<span style=\"color: blue;\">**Scenario**</span>: some other scenario  \n",
    "&nbsp;&nbsp;&nbsp;&nbsp;<span style=\"color: green;\">**Given**</span> some other condition  \n",
    "&nbsp;&nbsp;&nbsp;&nbsp;<span style=\"color: green;\">**When**</span> some action is taken  \n",
    "&nbsp;&nbsp;&nbsp;&nbsp;<span style=\"color: green;\">**Then**</span> some other result is expected.  "
   ]
  },
  {
   "cell_type": "markdown",
   "metadata": {
    "slideshow": {
     "slide_type": "fragment"
    }
   },
   "source": [
    "# TO DO (Example)"
   ]
  },
  {
   "cell_type": "markdown",
   "metadata": {
    "slideshow": {
     "slide_type": "notes"
    }
   },
   "source": [
    "Continue Code writing for workshop example"
   ]
  },
  {
   "cell_type": "markdown",
   "metadata": {
    "slideshow": {
     "slide_type": "subslide"
    }
   },
   "source": [
    "### A scenario outline"
   ]
  },
  {
   "cell_type": "markdown",
   "metadata": {
    "slideshow": {
     "slide_type": "fragment"
    }
   },
   "source": [
    "# TO DO (Example)"
   ]
  },
  {
   "cell_type": "code",
   "execution_count": null,
   "metadata": {
    "slideshow": {
     "slide_type": "notes"
    }
   },
   "outputs": [],
   "source": [
    "Continue code writing for workshop example"
   ]
  },
  {
   "cell_type": "markdown",
   "metadata": {
    "slideshow": {
     "slide_type": "slide"
    }
   },
   "source": [
    "# Python comes into play"
   ]
  },
  {
   "cell_type": "markdown",
   "metadata": {
    "slideshow": {
     "slide_type": "subslide"
    }
   },
   "source": [
    "Step definitions (Gluing step to definitions (decorators)"
   ]
  },
  {
   "cell_type": "code",
   "execution_count": null,
   "metadata": {
    "slideshow": {
     "slide_type": "subslide"
    }
   },
   "outputs": [],
   "source": [
    "+--features/\n",
    "|   +--steps/       # -- Steps directory\n",
    "|   |    +-- *.py   # -- Step implementation or use step-library python files.\n",
    "|   +-- *.feature   # -- Feature files written by your Business Analyst / Sponsor / whoever \n",
    "                    # with your behaviour scenarios in it"
   ]
  },
  {
   "cell_type": "markdown",
   "metadata": {
    "slideshow": {
     "slide_type": "subslide"
    }
   },
   "source": [
    "Scenario Context"
   ]
  },
  {
   "cell_type": "markdown",
   "metadata": {
    "slideshow": {
     "slide_type": "subslide"
    }
   },
   "source": [
    "Hooks\n",
    "environement.py"
   ]
  },
  {
   "cell_type": "code",
   "execution_count": null,
   "metadata": {
    "slideshow": {
     "slide_type": "subslide"
    }
   },
   "outputs": [],
   "source": [
    "+-- features/\n",
    "|     +-- steps/\n",
    "|     |    +-- website_steps.py\n",
    "|     |    +-- utils.py\n",
    "|     |\n",
    "|     +-- environment.py      # -- Environment controls(code to run before and after steps, scenarios, features or the whole shooting match)\n",
    "|     +-- signup.feature\n",
    "|     +-- login.feature\n",
    "|     +-- account_details.feature"
   ]
  },
  {
   "cell_type": "markdown",
   "metadata": {
    "slideshow": {
     "slide_type": "slide"
    }
   },
   "source": [
    "# Summary on how Behave works\n"
   ]
  },
  {
   "cell_type": "markdown",
   "metadata": {
    "slideshow": {
     "slide_type": "subslide"
    }
   },
   "source": [
    "# TO DO (Fill it)"
   ]
  },
  {
   "cell_type": "markdown",
   "metadata": {
    "slideshow": {
     "slide_type": "slide"
    }
   },
   "source": [
    "# Usefull resources\n",
    "\n",
    "[Behave tutorial](https://behave.readthedocs.io/en/latest/tutorial.html)  \n",
    "[Behavior-Driven Python PyCon 2018](https://www.youtube.com/watch?v=EtIAbfCrsFI)  \n",
    "[Behave documentation](https://behave.readthedocs.io/en/latest/)  \n",
    "[Behave GitHub project](https://github.com/behave/behave)  \n",
    "[Behave examples](https://jenisys.github.io/behave.example/)  "
   ]
  }
 ],
 "metadata": {
  "celltoolbar": "Slideshow",
  "kernelspec": {
   "display_name": "Python 3",
   "language": "python",
   "name": "python3"
  },
  "language_info": {
   "codemirror_mode": {
    "name": "ipython",
    "version": 3
   },
   "file_extension": ".py",
   "mimetype": "text/x-python",
   "name": "python",
   "nbconvert_exporter": "python",
   "pygments_lexer": "ipython3",
   "version": "3.7.5"
  },
  "rise": {
   "footer": "<h3>Behave Driven Python, Test Fest 2020, Agnieszka Malek</h3>",
   "height": "80%",
   "width": "80%"
  }
 },
 "nbformat": 4,
 "nbformat_minor": 4
}
